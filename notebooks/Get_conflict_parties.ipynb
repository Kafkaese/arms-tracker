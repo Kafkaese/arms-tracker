{
 "cells": [
  {
   "cell_type": "code",
   "execution_count": 1,
   "id": "45fcfbfe",
   "metadata": {},
   "outputs": [],
   "source": [
    "from bs4 import BeautifulSoup"
   ]
  },
  {
   "cell_type": "code",
   "execution_count": 3,
   "id": "79b4da96",
   "metadata": {},
   "outputs": [],
   "source": [
    "import requests as re"
   ]
  },
  {
   "cell_type": "code",
   "execution_count": 40,
   "id": "f648dfde",
   "metadata": {},
   "outputs": [],
   "source": [
    "url = 'https://en.wikipedia.org/wiki/Ethiopian_civil_conflict_(2018%E2%80%93present)'"
   ]
  },
  {
   "cell_type": "code",
   "execution_count": 41,
   "id": "21e45659",
   "metadata": {},
   "outputs": [],
   "source": [
    "result = re.get(url)"
   ]
  },
  {
   "cell_type": "code",
   "execution_count": 42,
   "id": "862121c4",
   "metadata": {},
   "outputs": [
    {
     "data": {
      "text/plain": [
       "<Response [200]>"
      ]
     },
     "execution_count": 42,
     "metadata": {},
     "output_type": "execute_result"
    }
   ],
   "source": [
    "result"
   ]
  },
  {
   "cell_type": "code",
   "execution_count": 43,
   "id": "af3515b2",
   "metadata": {},
   "outputs": [],
   "source": [
    "soup = BeautifulSoup(result.content, 'html.parser')"
   ]
  },
  {
   "cell_type": "code",
   "execution_count": 44,
   "id": "862fe47e",
   "metadata": {},
   "outputs": [],
   "source": [
    "def number_span(tag):\n",
    "    return tag.name=='th' and 'Belligerents' in tag.contents[0]"
   ]
  },
  {
   "cell_type": "code",
   "execution_count": 55,
   "id": "85be1c15",
   "metadata": {},
   "outputs": [],
   "source": [
    "header = soup.find('th', string=\"Belligerents\")"
   ]
  },
  {
   "cell_type": "code",
   "execution_count": 58,
   "id": "7e1a6c9c",
   "metadata": {},
   "outputs": [
    {
     "data": {
      "text/plain": [
       "<th colspan=\"4\" style=\"background-color:#C3D6EF;text-align:center;vertical-align:middle;font-size:110%;\">Belligerents</th>"
      ]
     },
     "execution_count": 58,
     "metadata": {},
     "output_type": "execute_result"
    }
   ],
   "source": [
    "header"
   ]
  },
  {
   "cell_type": "code",
   "execution_count": 65,
   "id": "a890f433",
   "metadata": {},
   "outputs": [],
   "source": [
    "parties = header.parent.find_next_sibling(header.parent.name).find_all('td')"
   ]
  },
  {
   "cell_type": "code",
   "execution_count": 66,
   "id": "e7e297f4",
   "metadata": {},
   "outputs": [],
   "source": [
    "test_party = parties[0]"
   ]
  },
  {
   "cell_type": "code",
   "execution_count": 76,
   "id": "45211a4f",
   "metadata": {},
   "outputs": [],
   "source": [
    "belligerents = []\n",
    "\n",
    "for party in parties:\n",
    "    \n",
    "    for country in party.find_all('p'):\n",
    "        belligerents.append(country.find('a').text)"
   ]
  },
  {
   "cell_type": "code",
   "execution_count": 77,
   "id": "93d0d1b6",
   "metadata": {},
   "outputs": [
    {
     "data": {
      "text/plain": [
       "['Ethiopia', 'Eritrea', 'UFEFCF', 'Sudan', 'Al-Qaeda']"
      ]
     },
     "execution_count": 77,
     "metadata": {},
     "output_type": "execute_result"
    }
   ],
   "source": [
    "belligerents"
   ]
  },
  {
   "cell_type": "code",
   "execution_count": null,
   "id": "6302843a",
   "metadata": {},
   "outputs": [],
   "source": []
  }
 ],
 "metadata": {
  "kernelspec": {
   "display_name": "taro",
   "language": "python",
   "name": "taro"
  },
  "language_info": {
   "codemirror_mode": {
    "name": "ipython",
    "version": 3
   },
   "file_extension": ".py",
   "mimetype": "text/x-python",
   "name": "python",
   "nbconvert_exporter": "python",
   "pygments_lexer": "ipython3",
   "version": "3.8.12"
  },
  "toc": {
   "base_numbering": 1,
   "nav_menu": {},
   "number_sections": true,
   "sideBar": true,
   "skip_h1_title": false,
   "title_cell": "Table of Contents",
   "title_sidebar": "Contents",
   "toc_cell": false,
   "toc_position": {},
   "toc_section_display": true,
   "toc_window_display": false
  }
 },
 "nbformat": 4,
 "nbformat_minor": 5
}
